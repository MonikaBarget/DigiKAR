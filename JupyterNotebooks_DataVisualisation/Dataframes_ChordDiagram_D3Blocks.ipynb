{
 "cells": [
  {
   "cell_type": "markdown",
   "metadata": {
    "id": "VdPWJDsvxi9a"
   },
   "source": [
    "Step 1: Define file paths"
   ]
  },
  {
   "cell_type": "code",
   "execution_count": 73,
   "metadata": {
    "id": "lCdr5pdfxmpU",
    "tags": []
   },
   "outputs": [],
   "source": [
    "directory = \"../working-with-data-frames/\""
   ]
  },
  {
   "cell_type": "markdown",
   "metadata": {
    "id": "uAHtmpXpxqKc"
   },
   "source": [
    "Step 2: Install additional packages"
   ]
  },
  {
   "cell_type": "code",
   "execution_count": 4,
   "metadata": {
    "id": "WpiuofaXxtRF",
    "tags": []
   },
   "outputs": [
    {
     "name": "stdout",
     "output_type": "stream",
     "text": [
      "Requirement already satisfied: pandas in /opt/conda/lib/python3.8/site-packages (1.5.0)\n",
      "Requirement already satisfied: python-dateutil>=2.8.1 in /opt/conda/lib/python3.8/site-packages (from pandas) (2.8.2)\n",
      "Requirement already satisfied: pytz>=2020.1 in /opt/conda/lib/python3.8/site-packages (from pandas) (2022.4)\n",
      "Requirement already satisfied: numpy>=1.20.3 in /opt/conda/lib/python3.8/site-packages (from pandas) (1.23.3)\n",
      "Requirement already satisfied: six>=1.5 in /opt/conda/lib/python3.8/site-packages (from python-dateutil>=2.8.1->pandas) (1.16.0)\n",
      "\n",
      "\u001b[1m[\u001b[0m\u001b[34;49mnotice\u001b[0m\u001b[1;39;49m]\u001b[0m\u001b[39;49m A new release of pip is available: \u001b[0m\u001b[31;49m23.3.1\u001b[0m\u001b[39;49m -> \u001b[0m\u001b[32;49m23.3.2\u001b[0m\n",
      "\u001b[1m[\u001b[0m\u001b[34;49mnotice\u001b[0m\u001b[1;39;49m]\u001b[0m\u001b[39;49m To update, run: \u001b[0m\u001b[32;49mpip install --upgrade pip\u001b[0m\n",
      "Requirement already satisfied: openpyxl in /opt/conda/lib/python3.8/site-packages (3.1.2)\n",
      "Requirement already satisfied: et-xmlfile in /opt/conda/lib/python3.8/site-packages (from openpyxl) (1.1.0)\n",
      "\n",
      "\u001b[1m[\u001b[0m\u001b[34;49mnotice\u001b[0m\u001b[1;39;49m]\u001b[0m\u001b[39;49m A new release of pip is available: \u001b[0m\u001b[31;49m23.3.1\u001b[0m\u001b[39;49m -> \u001b[0m\u001b[32;49m23.3.2\u001b[0m\n",
      "\u001b[1m[\u001b[0m\u001b[34;49mnotice\u001b[0m\u001b[1;39;49m]\u001b[0m\u001b[39;49m To update, run: \u001b[0m\u001b[32;49mpip install --upgrade pip\u001b[0m\n",
      "Requirement already satisfied: d3blocks in /opt/conda/lib/python3.8/site-packages (1.4.9)\n",
      "Requirement already satisfied: numpy in /opt/conda/lib/python3.8/site-packages (from d3blocks) (1.23.3)\n",
      "Requirement already satisfied: colourmap>=1.1.10 in /opt/conda/lib/python3.8/site-packages (from d3blocks) (1.1.16)\n",
      "Requirement already satisfied: datazets>=0.1.7 in /opt/conda/lib/python3.8/site-packages (from d3blocks) (0.1.9)\n",
      "Requirement already satisfied: d3graph>=2.4.16 in /opt/conda/lib/python3.8/site-packages (from d3blocks) (2.5.0)\n",
      "Requirement already satisfied: elasticgraph>=0.1.2 in /opt/conda/lib/python3.8/site-packages (from d3blocks) (0.2.0)\n",
      "Requirement already satisfied: ismember>=1.0.1 in /opt/conda/lib/python3.8/site-packages (from d3blocks) (1.0.2)\n",
      "Requirement already satisfied: pandas in /opt/conda/lib/python3.8/site-packages (from d3blocks) (1.5.0)\n",
      "Requirement already satisfied: tqdm in /opt/conda/lib/python3.8/site-packages (from d3blocks) (4.64.1)\n",
      "Requirement already satisfied: requests in /opt/conda/lib/python3.8/site-packages (from d3blocks) (2.28.1)\n",
      "Requirement already satisfied: scikit-learn in /opt/conda/lib/python3.8/site-packages (from d3blocks) (1.1.2)\n",
      "Requirement already satisfied: jinja2 in /opt/conda/lib/python3.8/site-packages (from d3blocks) (3.1.2)\n",
      "Requirement already satisfied: matplotlib in /opt/conda/lib/python3.8/site-packages (from colourmap>=1.1.10->d3blocks) (3.6.0)\n",
      "Requirement already satisfied: networkx>2 in /opt/conda/lib/python3.8/site-packages (from d3graph>=2.4.16->d3blocks) (2.8.7)\n",
      "Requirement already satisfied: packaging in /opt/conda/lib/python3.8/site-packages (from d3graph>=2.4.16->d3blocks) (21.3)\n",
      "Requirement already satisfied: markupsafe==2.0.1 in /opt/conda/lib/python3.8/site-packages (from d3graph>=2.4.16->d3blocks) (2.0.1)\n",
      "Requirement already satisfied: python-louvain in /opt/conda/lib/python3.8/site-packages (from d3graph>=2.4.16->d3blocks) (0.16)\n",
      "Requirement already satisfied: python-dateutil>=2.8.1 in /opt/conda/lib/python3.8/site-packages (from pandas->d3blocks) (2.8.2)\n",
      "Requirement already satisfied: pytz>=2020.1 in /opt/conda/lib/python3.8/site-packages (from pandas->d3blocks) (2022.4)\n",
      "Requirement already satisfied: charset-normalizer<3,>=2 in /opt/conda/lib/python3.8/site-packages (from requests->d3blocks) (2.1.1)\n",
      "Requirement already satisfied: idna<4,>=2.5 in /opt/conda/lib/python3.8/site-packages (from requests->d3blocks) (3.4)\n",
      "Requirement already satisfied: urllib3<1.27,>=1.21.1 in /opt/conda/lib/python3.8/site-packages (from requests->d3blocks) (1.26.11)\n",
      "Requirement already satisfied: certifi>=2017.4.17 in /opt/conda/lib/python3.8/site-packages (from requests->d3blocks) (2023.7.22)\n",
      "Requirement already satisfied: scipy>=1.3.2 in /opt/conda/lib/python3.8/site-packages (from scikit-learn->d3blocks) (1.9.1)\n",
      "Requirement already satisfied: joblib>=1.0.0 in /opt/conda/lib/python3.8/site-packages (from scikit-learn->d3blocks) (1.2.0)\n",
      "Requirement already satisfied: threadpoolctl>=2.0.0 in /opt/conda/lib/python3.8/site-packages (from scikit-learn->d3blocks) (3.1.0)\n",
      "Requirement already satisfied: six>=1.5 in /opt/conda/lib/python3.8/site-packages (from python-dateutil>=2.8.1->pandas->d3blocks) (1.16.0)\n",
      "Requirement already satisfied: contourpy>=1.0.1 in /opt/conda/lib/python3.8/site-packages (from matplotlib->colourmap>=1.1.10->d3blocks) (1.0.5)\n",
      "Requirement already satisfied: cycler>=0.10 in /opt/conda/lib/python3.8/site-packages (from matplotlib->colourmap>=1.1.10->d3blocks) (0.11.0)\n",
      "Requirement already satisfied: fonttools>=4.22.0 in /opt/conda/lib/python3.8/site-packages (from matplotlib->colourmap>=1.1.10->d3blocks) (4.37.4)\n",
      "Requirement already satisfied: kiwisolver>=1.0.1 in /opt/conda/lib/python3.8/site-packages (from matplotlib->colourmap>=1.1.10->d3blocks) (1.4.4)\n",
      "Requirement already satisfied: pillow>=6.2.0 in /opt/conda/lib/python3.8/site-packages (from matplotlib->colourmap>=1.1.10->d3blocks) (9.2.0)\n",
      "Requirement already satisfied: pyparsing>=2.2.1 in /opt/conda/lib/python3.8/site-packages (from matplotlib->colourmap>=1.1.10->d3blocks) (3.0.9)\n",
      "\n",
      "\u001b[1m[\u001b[0m\u001b[34;49mnotice\u001b[0m\u001b[1;39;49m]\u001b[0m\u001b[39;49m A new release of pip is available: \u001b[0m\u001b[31;49m23.3.1\u001b[0m\u001b[39;49m -> \u001b[0m\u001b[32;49m23.3.2\u001b[0m\n",
      "\u001b[1m[\u001b[0m\u001b[34;49mnotice\u001b[0m\u001b[1;39;49m]\u001b[0m\u001b[39;49m To update, run: \u001b[0m\u001b[32;49mpip install --upgrade pip\u001b[0m\n",
      "Requirement already satisfied: d3blocks in /opt/conda/lib/python3.8/site-packages (1.4.9)\n",
      "Requirement already satisfied: numpy in /opt/conda/lib/python3.8/site-packages (from d3blocks) (1.23.3)\n",
      "Requirement already satisfied: colourmap>=1.1.10 in /opt/conda/lib/python3.8/site-packages (from d3blocks) (1.1.16)\n",
      "Requirement already satisfied: datazets>=0.1.7 in /opt/conda/lib/python3.8/site-packages (from d3blocks) (0.1.9)\n",
      "Requirement already satisfied: d3graph>=2.4.16 in /opt/conda/lib/python3.8/site-packages (from d3blocks) (2.5.0)\n",
      "Requirement already satisfied: elasticgraph>=0.1.2 in /opt/conda/lib/python3.8/site-packages (from d3blocks) (0.2.0)\n",
      "Requirement already satisfied: ismember>=1.0.1 in /opt/conda/lib/python3.8/site-packages (from d3blocks) (1.0.2)\n",
      "Requirement already satisfied: pandas in /opt/conda/lib/python3.8/site-packages (from d3blocks) (1.5.0)\n",
      "Requirement already satisfied: tqdm in /opt/conda/lib/python3.8/site-packages (from d3blocks) (4.64.1)\n",
      "Requirement already satisfied: requests in /opt/conda/lib/python3.8/site-packages (from d3blocks) (2.28.1)\n",
      "Requirement already satisfied: scikit-learn in /opt/conda/lib/python3.8/site-packages (from d3blocks) (1.1.2)\n",
      "Requirement already satisfied: jinja2 in /opt/conda/lib/python3.8/site-packages (from d3blocks) (3.1.2)\n",
      "Requirement already satisfied: matplotlib in /opt/conda/lib/python3.8/site-packages (from colourmap>=1.1.10->d3blocks) (3.6.0)\n",
      "Requirement already satisfied: networkx>2 in /opt/conda/lib/python3.8/site-packages (from d3graph>=2.4.16->d3blocks) (2.8.7)\n",
      "Requirement already satisfied: packaging in /opt/conda/lib/python3.8/site-packages (from d3graph>=2.4.16->d3blocks) (21.3)\n",
      "Requirement already satisfied: markupsafe==2.0.1 in /opt/conda/lib/python3.8/site-packages (from d3graph>=2.4.16->d3blocks) (2.0.1)\n",
      "Requirement already satisfied: python-louvain in /opt/conda/lib/python3.8/site-packages (from d3graph>=2.4.16->d3blocks) (0.16)\n",
      "Requirement already satisfied: python-dateutil>=2.8.1 in /opt/conda/lib/python3.8/site-packages (from pandas->d3blocks) (2.8.2)\n",
      "Requirement already satisfied: pytz>=2020.1 in /opt/conda/lib/python3.8/site-packages (from pandas->d3blocks) (2022.4)\n",
      "Requirement already satisfied: charset-normalizer<3,>=2 in /opt/conda/lib/python3.8/site-packages (from requests->d3blocks) (2.1.1)\n",
      "Requirement already satisfied: idna<4,>=2.5 in /opt/conda/lib/python3.8/site-packages (from requests->d3blocks) (3.4)\n",
      "Requirement already satisfied: urllib3<1.27,>=1.21.1 in /opt/conda/lib/python3.8/site-packages (from requests->d3blocks) (1.26.11)\n",
      "Requirement already satisfied: certifi>=2017.4.17 in /opt/conda/lib/python3.8/site-packages (from requests->d3blocks) (2023.7.22)\n",
      "Requirement already satisfied: scipy>=1.3.2 in /opt/conda/lib/python3.8/site-packages (from scikit-learn->d3blocks) (1.9.1)\n",
      "Requirement already satisfied: joblib>=1.0.0 in /opt/conda/lib/python3.8/site-packages (from scikit-learn->d3blocks) (1.2.0)\n",
      "Requirement already satisfied: threadpoolctl>=2.0.0 in /opt/conda/lib/python3.8/site-packages (from scikit-learn->d3blocks) (3.1.0)\n",
      "Requirement already satisfied: six>=1.5 in /opt/conda/lib/python3.8/site-packages (from python-dateutil>=2.8.1->pandas->d3blocks) (1.16.0)\n",
      "Requirement already satisfied: contourpy>=1.0.1 in /opt/conda/lib/python3.8/site-packages (from matplotlib->colourmap>=1.1.10->d3blocks) (1.0.5)\n",
      "Requirement already satisfied: cycler>=0.10 in /opt/conda/lib/python3.8/site-packages (from matplotlib->colourmap>=1.1.10->d3blocks) (0.11.0)\n",
      "Requirement already satisfied: fonttools>=4.22.0 in /opt/conda/lib/python3.8/site-packages (from matplotlib->colourmap>=1.1.10->d3blocks) (4.37.4)\n",
      "Requirement already satisfied: kiwisolver>=1.0.1 in /opt/conda/lib/python3.8/site-packages (from matplotlib->colourmap>=1.1.10->d3blocks) (1.4.4)\n",
      "Requirement already satisfied: pillow>=6.2.0 in /opt/conda/lib/python3.8/site-packages (from matplotlib->colourmap>=1.1.10->d3blocks) (9.2.0)\n",
      "Requirement already satisfied: pyparsing>=2.2.1 in /opt/conda/lib/python3.8/site-packages (from matplotlib->colourmap>=1.1.10->d3blocks) (3.0.9)\n",
      "\n",
      "\u001b[1m[\u001b[0m\u001b[34;49mnotice\u001b[0m\u001b[1;39;49m]\u001b[0m\u001b[39;49m A new release of pip is available: \u001b[0m\u001b[31;49m23.3.1\u001b[0m\u001b[39;49m -> \u001b[0m\u001b[32;49m23.3.2\u001b[0m\n",
      "\u001b[1m[\u001b[0m\u001b[34;49mnotice\u001b[0m\u001b[1;39;49m]\u001b[0m\u001b[39;49m To update, run: \u001b[0m\u001b[32;49mpip install --upgrade pip\u001b[0m\n"
     ]
    }
   ],
   "source": [
    "# install packages that are not part of Python's standard distribution\n",
    "\n",
    "!pip install pandas\n",
    "!pip install openpyxl\n",
    "!pip install d3blocks\n",
    "!pip install --upgrade d3blocks"
   ]
  },
  {
   "cell_type": "markdown",
   "metadata": {
    "id": "kG4qGCIQx0Z4"
   },
   "source": [
    "Step 3: Read input file and create dataframe"
   ]
  },
  {
   "cell_type": "code",
   "execution_count": 5,
   "metadata": {
    "id": "LBpLWTJVx4bt",
    "tags": []
   },
   "outputs": [
    {
     "name": "stderr",
     "output_type": "stream",
     "text": [
      "/opt/conda/lib/python3.8/site-packages/openpyxl/styles/stylesheet.py:226: UserWarning: Workbook contains no default style, apply openpyxl's default\n",
      "  warn(\"Workbook contains no default style, apply openpyxl's default\")\n"
     ]
    }
   ],
   "source": [
    "# Import packages for working with EXCEL and dataframes\n",
    "\n",
    "import pandas as pd\n",
    "import openpyxl\n",
    "\n",
    "# Read EXCEL file to dataframe\n",
    "infile1=\"https://github.com/ieg-dhr/DigiKAR/raw/main/Sample%20Data/FactoidList-Erfassung-Jahns_OpenRefine.xlsx\"\n",
    "input_df = pd.read_excel(infile1)\n",
    "#display(input_df) # display of df optional"
   ]
  },
  {
   "cell_type": "markdown",
   "metadata": {
    "id": "kG4qGCIQx0Z4"
   },
   "source": [
    "Step 4: Plot chord diagram with 3DBlocks"
   ]
  },
  {
   "cell_type": "code",
   "execution_count": 19,
   "metadata": {
    "id": "LBpLWTJVx4bt",
    "tags": []
   },
   "outputs": [
    {
     "name": "stderr",
     "output_type": "stream",
     "text": [
      "[d3blocks] >INFO> Cleaning edge_properties and config parameters..\n",
      "[d3blocks] >INFO> Initializing [Chord]\n",
      "[d3blocks] >INFO> filepath is set to [/tmp/d3blocks/chord.html]\n"
     ]
    },
    {
     "data": {
      "text/html": [
       "<div>\n",
       "<style scoped>\n",
       "    .dataframe tbody tr th:only-of-type {\n",
       "        vertical-align: middle;\n",
       "    }\n",
       "\n",
       "    .dataframe tbody tr th {\n",
       "        vertical-align: top;\n",
       "    }\n",
       "\n",
       "    .dataframe thead th {\n",
       "        text-align: right;\n",
       "    }\n",
       "</style>\n",
       "<table border=\"1\" class=\"dataframe\">\n",
       "  <thead>\n",
       "    <tr style=\"text-align: right;\">\n",
       "      <th></th>\n",
       "      <th>source</th>\n",
       "      <th>target</th>\n",
       "      <th>weights</th>\n",
       "    </tr>\n",
       "  </thead>\n",
       "  <tbody>\n",
       "    <tr>\n",
       "      <th>130</th>\n",
       "      <td>Funktionsausübung</td>\n",
       "      <td>Wetzlar</td>\n",
       "      <td>67</td>\n",
       "    </tr>\n",
       "    <tr>\n",
       "      <th>291</th>\n",
       "      <td>Präsentation</td>\n",
       "      <td>Wetzlar</td>\n",
       "      <td>64</td>\n",
       "    </tr>\n",
       "    <tr>\n",
       "      <th>2</th>\n",
       "      <td>Aufschwörung</td>\n",
       "      <td>Wetzlar</td>\n",
       "      <td>53</td>\n",
       "    </tr>\n",
       "    <tr>\n",
       "      <th>418</th>\n",
       "      <td>erfolglose Bewerbung</td>\n",
       "      <td>Wetzlar</td>\n",
       "      <td>53</td>\n",
       "    </tr>\n",
       "    <tr>\n",
       "      <th>256</th>\n",
       "      <td>Praktikum</td>\n",
       "      <td>Wetzlar</td>\n",
       "      <td>49</td>\n",
       "    </tr>\n",
       "    <tr>\n",
       "      <th>97</th>\n",
       "      <td>Funktionsausübung</td>\n",
       "      <td>Koblenz</td>\n",
       "      <td>45</td>\n",
       "    </tr>\n",
       "    <tr>\n",
       "      <th>404</th>\n",
       "      <td>Vokation</td>\n",
       "      <td>Wetzlar</td>\n",
       "      <td>43</td>\n",
       "    </tr>\n",
       "    <tr>\n",
       "      <th>103</th>\n",
       "      <td>Funktionsausübung</td>\n",
       "      <td>Mainz</td>\n",
       "      <td>40</td>\n",
       "    </tr>\n",
       "    <tr>\n",
       "      <th>107</th>\n",
       "      <td>Funktionsausübung</td>\n",
       "      <td>München</td>\n",
       "      <td>31</td>\n",
       "    </tr>\n",
       "    <tr>\n",
       "      <th>389</th>\n",
       "      <td>Tod</td>\n",
       "      <td>Wetzlar</td>\n",
       "      <td>31</td>\n",
       "    </tr>\n",
       "  </tbody>\n",
       "</table>\n",
       "</div>"
      ],
      "text/plain": [
       "                   source   target  weights\n",
       "130     Funktionsausübung  Wetzlar       67\n",
       "291          Präsentation  Wetzlar       64\n",
       "2            Aufschwörung  Wetzlar       53\n",
       "418  erfolglose Bewerbung  Wetzlar       53\n",
       "256             Praktikum  Wetzlar       49\n",
       "97      Funktionsausübung  Koblenz       45\n",
       "404              Vokation  Wetzlar       43\n",
       "103     Funktionsausübung    Mainz       40\n",
       "107     Funktionsausübung  München       31\n",
       "389                   Tod  Wetzlar       31"
      ]
     },
     "metadata": {},
     "output_type": "display_data"
    },
    {
     "name": "stderr",
     "output_type": "stream",
     "text": [
      "[d3blocks] >INFO> Convert to DataFrame.\n",
      "[d3blocks] >INFO> Node properties are set.\n",
      "[d3blocks] >INFO> Edge properties are set.\n",
      "[d3blocks] >INFO> Cleaning edge_properties and config parameters..\n",
      "[d3blocks] >INFO> Initializing [Chord]\n",
      "[d3blocks] >INFO> filepath is set to [/home/jovyan/work/persistent/working-with-data-frames/output_folder/graph4.html]\n",
      "[d3blocks] >INFO> Convert to DataFrame.\n",
      "[d3blocks] >INFO> Node properties are set.\n",
      "[d3blocks] >INFO> Set edge-opacity based on the [source] node-opacity.\n",
      "[d3blocks] >INFO> Set edge-colors based on the [source] node-color.\n",
      "[d3blocks] >INFO> Edge properties are set.\n",
      "[d3blocks] >INFO> Open browser: /home/jovyan/work/persistent/working-with-data-frames/output_folder/graph4.html\n",
      "[d3blocks] >INFO> File already exists and will be overwritten: [/home/jovyan/work/persistent/working-with-data-frames/output_folder/graph4.html]\n"
     ]
    },
    {
     "name": "stdout",
     "output_type": "stream",
     "text": [
      "'Praktikum' not found in node_properties.\n",
      "Edge ('Praktikum', 'Wetzlar') not found in edge_properties.\n"
     ]
    },
    {
     "name": "stderr",
     "output_type": "stream",
     "text": [
      "[d3blocks] >INFO> Open browser: /home/jovyan/work/persistent/working-with-data-frames/output_folder/graph4.html\n"
     ]
    }
   ],
   "source": [
    "# Create a chord diagram with D3Bblocks\n",
    "\n",
    "from d3blocks import D3Blocks\n",
    "import numpy as np\n",
    "\n",
    "# Initialize diagram\n",
    "d3 = D3Blocks(chart='Chord', frame=True)\n",
    "\n",
    "# Group input df by 'event_type' and 'place_name' and count occurrences\n",
    "result_df = input_df.groupby(['event_type', 'place_name']).size().reset_index(name='weights') \n",
    "\n",
    "# Sort \"weights\" in descending order and select top 10 combinations\n",
    "top_10_combinations = result_df.sort_values(by='weights', ascending=False).head(10)\n",
    "\n",
    "# Import example\n",
    "df_chord = top_10_combinations \n",
    "# Rename columns\n",
    "df_chord.rename(columns={'event_type': 'source', 'place_name': 'target'}, inplace=True)\n",
    "\n",
    "# check new df\n",
    "display(df_chord)\n",
    "\n",
    "# Node properties\n",
    "d3.set_node_properties(df_chord, opacity=0.2, cmap='tab20')\n",
    "d3.set_edge_properties(df_chord, color='source', opacity='source')\n",
    "\n",
    "# Plot the Chord diagram and sort (optional)\n",
    "d3.chord(df_chord, ordering=\"descending\", showfig=True, filepath = '/home/jovyan/work/persistent/working-with-data-frames/output_folder/graph4.html') \n",
    "# also possible to sort by 'ascending' or ''\n",
    "# for custom ordering of labels use: ordering=np.sort(np.unique(df_chord['source'].values))\n",
    "# please make sure to adjust filepath for visualisation output if you are not running the code on the DSRI\n",
    "\n",
    "\n",
    "# IMPORTANT: highlighting selected nodes and edges does not work yet:\n",
    "# code below needs review!\n",
    "# Highlight individual node\n",
    "if d3.node_properties is not None:\n",
    "    node_properties = d3.node_properties.get('Praktikum')\n",
    "    if node_properties is not None:\n",
    "        node_properties['color'] = '#ff0000'\n",
    "        node_properties['opacity'] = 1\n",
    "    else:\n",
    "        print(\"'Praktikum' not found in node_properties.\")\n",
    "else:\n",
    "    print(\"node_properties is None.\")\n",
    "\n",
    "\n",
    "# Highlight individual edge\n",
    "edge_key = ('Praktikum', 'Wetzlar')\n",
    "\n",
    "if d3.edge_properties is not None:\n",
    "    edge_properties = d3.edge_properties.get(edge_key)\n",
    "\n",
    "    if edge_properties is not None:\n",
    "        edge_properties['color'] = '#ff0000'\n",
    "        edge_properties['opacity'] = 0.8\n",
    "        edge_properties['weight'] = 1000\n",
    "    else:\n",
    "        print(f\"Edge {edge_key} not found in edge_properties.\")\n",
    "else:\n",
    "    print(\"edge_properties is None.\")\n",
    "\n",
    "# Show the chart\n",
    "d3.show()"
   ]
  },
  {
   "cell_type": "markdown",
   "metadata": {
    "id": "kG4qGCIQx0Z4"
   },
   "source": [
    "For sample graphs, see the following Github directory: https://github.com/ieg-dhr/DigiKAR/tree/main/JupyterNotebooks_DataVisualisation\n",
    "\n",
    "Code based on the D3Blocks documentation and adjusted for the DigiKAR project by Monika Barget, January 2024"
   ]
  },
  {
   "cell_type": "code",
   "execution_count": null,
   "metadata": {},
   "outputs": [],
   "source": []
  }
 ],
 "metadata": {
  "colab": {
   "authorship_tag": "ABX9TyMunrLUgh5/fmDOZu5d+peN",
   "include_colab_link": true,
   "private_outputs": true,
   "provenance": []
  },
  "kernelspec": {
   "display_name": "Python 3 (ipykernel)",
   "language": "python",
   "name": "python3"
  },
  "language_info": {
   "codemirror_mode": {
    "name": "ipython",
    "version": 3
   },
   "file_extension": ".py",
   "mimetype": "text/x-python",
   "name": "python",
   "nbconvert_exporter": "python",
   "pygments_lexer": "ipython3",
   "version": "3.8.13"
  }
 },
 "nbformat": 4,
 "nbformat_minor": 4
}
