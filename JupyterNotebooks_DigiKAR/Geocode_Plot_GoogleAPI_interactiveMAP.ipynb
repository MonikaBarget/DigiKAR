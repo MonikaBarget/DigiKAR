{
  "nbformat": 4,
  "nbformat_minor": 0,
  "metadata": {
    "colab": {
      "provenance": []
    },
    "kernelspec": {
      "name": "python3",
      "display_name": "Python 3"
    },
    "language_info": {
      "name": "python"
    }
  },
  "cells": [
    {
      "cell_type": "markdown",
      "source": [
        "This is a script for geocoding and plotting spatial information from an EXCEL spreadsheet with an \"Addresses\" column. The API used is **Google.**\n",
        "\n",
        "For this service, you need to create a so-called API key (a unique string of characters) via the Google developers platform.\n",
        "\n",
        "The first step is to get COLAB working:\n"
      ],
      "metadata": {
        "id": "S3ydZRhYATDN"
      }
    },
    {
      "cell_type": "code",
      "source": [
        "## mount drive\n",
        "from google.colab import drive\n",
        "drive.mount(\"/content/drive\")"
      ],
      "metadata": {
        "id": "aiN4EDrIrDz2"
      },
      "execution_count": null,
      "outputs": []
    },
    {
      "cell_type": "markdown",
      "source": [
        "A file path needs to be defined for storing input or output files linked with this script:"
      ],
      "metadata": {
        "id": "rIP7cuKSvXZS"
      }
    },
    {
      "cell_type": "code",
      "source": [
        "directory=\"/content/drive/My Drive/Colab_DigiKAR/\""
      ],
      "metadata": {
        "id": "39qqRJOgZmPC"
      },
      "execution_count": null,
      "outputs": []
    },
    {
      "cell_type": "markdown",
      "source": [
        "Now we can install packages that are not part of Python's standard distribution but are necessary for geocoding and plotting maps. There will most likely be a dependency error for NumPy, but the script should still work."
      ],
      "metadata": {
        "id": "ujlAaGvavkCN"
      }
    },
    {
      "cell_type": "code",
      "source": [
        "## install packages that are not part of Python's standard distribution\n",
        "\n",
        "!pip install geocoder\n",
        "!pip install basemap\n",
        "!pip install ipyleaflet\n",
        "!pip install geojson\n",
        "!pip install googlemaps\n",
        "!pip install gmaps\n",
        "!pip install keplergl\n",
        "!pip install geopandas"
      ],
      "metadata": {
        "id": "3d6OjjlTZ2ri"
      },
      "execution_count": null,
      "outputs": []
    },
    {
      "cell_type": "markdown",
      "source": [
        "Now that all packages are installed, we can read the input data (in this case from Github or Google Drive) and display the content in a table."
      ],
      "metadata": {
        "id": "2XQp115Wv4MX"
      }
    },
    {
      "cell_type": "code",
      "source": [
        "## import relevant packages for geocoding as well as reading and writing data\n",
        "import pandas as pd\n",
        "import geocoder\n",
        "# command needed for correct plotting in Jupyter Notebooks:\n",
        "%matplotlib inline \n",
        "from pandas_profiling import ProfileReport\n",
        "from googlemaps import Client as GoogleMaps\n",
        "import googlemaps\n",
        "import gmaps\n",
        "from keplergl import KeplerGl\n",
        "import geopandas as gpd\n",
        "from mpl_toolkits.basemap import Basemap\n",
        "import matplotlib.pyplot as plt\n",
        "import os\n",
        "import json\n",
        "from geojson import Feature, FeatureCollection, Point\n",
        "\n",
        "## geocode data from spreadsheet\n",
        "\n",
        "# enter Google API key\n",
        "gmaps = googlemaps.Client(key='######')\n", # please enter your own API key
        "\n",
        "# input addresses in EXCEL format and read\n",
        "infile=directory+\"Addresses_Geocoded.xlsx\" # alternative input from Google Drive\n",
        "addresses_df = pd.read_excel(infile)\n",
        "display(addresses_df)"
      ],
      "metadata": {
        "id": "EnfAud5yJcpL"
      },
      "execution_count": null,
      "outputs": []
    },
    {
      "cell_type": "markdown",
      "source": [
        "Now we will use the Pandas package to read the content of the address column to a so-called DataFrame. A DataFrame is a data structure that organizes data into a 2-dimensional table of rows and columns, much like a spreadsheet. This 2-dimensional structure is often used to manipulate data with programming languages. Our \"manipulation\" is the act of geocoding."
      ],
      "metadata": {
        "id": "f0i3o8zrJnGG"
      }
    },
    {
      "cell_type": "code",
      "source": [
        "# read information from address column to dataframe\n",
        "addresses = addresses_df[\"Addresses\"].values.tolist()\n",
        "\n",
        "latitudes = []\n",
        "longitudes = []\n",
        "google_addresses = []\n",
        "\n",
        "# geocode each address in file\n",
        "for x in addresses:\n",
        "\ttry:\n",
        "\t\tg = gmaps.geocode(x)\n",
        "\t\tg_lat = g[0]['geometry']['location']['lat']\n",
        "\t\tg_lng = g[0]['geometry']['location']['lng']\n",
        "\t\tg_address = g[0]['formatted_address']\n",
        "\n",
        "\texcept ValueError:\n",
        "\t\tprint(\"No more places found.\")\n",
        "\t\tcontinue\n",
        "\texcept IndexError:\n",
        "\t\tprint(\"No coordinates found.\")\n",
        "\t\tg_lat = \"0\"\n",
        "\t\tg_lng = \"0\"\n",
        "\t\tg_address = \"0\"\n",
        "\t\tcontinue\n",
        "\n",
        "# add information to lists\n",
        "\tgoogle_addresses.append(g_address)\n",
        "\tlatitudes.append(g_lat)\n",
        "\tlongitudes.append(g_lng)\n",
        " \n",
        "# write information to new columns in dataframe\n",
        "addresses_df[\"latitudes\"] = latitudes\n",
        "addresses_df[\"longitudes\"] = longitudes\n",
        "addresses_df[\"Google address\"] = google_addresses\n",
        "\n",
        "print(\"All addresses geocoded!\")"
      ],
      "metadata": {
        "id": "spKIUGXb_TZV"
      },
      "execution_count": null,
      "outputs": []
    },
    {
      "cell_type": "markdown",
      "source": [
        "If all addresses have been successfully geocoded, the next step is to check the geocoding and write the results to a new EXCEL file. \n"
      ],
      "metadata": {
        "id": "TNFqD_PGXPmn"
      }
    },
    {
      "cell_type": "code",
      "source": [
        "# view geocoded data\n",
        "display(addresses_df)\n",
        "\n",
        "# write geocoded places to new file\n",
        "addresses_df.to_excel(directory+\"Addresses_Geocoded_withGoogleName.xlsx\")"
      ],
      "metadata": {
        "id": "NAfqlKu6Ftuq"
      },
      "execution_count": null,
      "outputs": []
    },
    {
      "cell_type": "markdown",
      "source": [
        "Our geocoded data have been written to a new EXCEL file, which is handy for further (manual) data cleaning and data enrichment. But EXCEL is unfortunately not a file format which GIS applications can handle. This is why we also need to export our geocoded data to GeoJSON.\n",
        "\n",
        "The conversion of a DataFrame to GeoJSON follows the instructions in the following tutorial by Geoff Boeing:\n",
        "\n",
        "https://notebook.community/captainsafia/nteract/applications/desktop/example-notebooks/pandas-to-geojson"
      ],
      "metadata": {
        "id": "5V7S0QW6kptc"
      }
    },
    {
      "cell_type": "code",
      "source": [
        "# convert coordinates to floats\n",
        "\n",
        "addresses_df['latitudes'] = addresses_df['latitudes'].astype(float)\n",
        "addresses_df['longitudes'] = addresses_df['longitudes'].astype(float)\n",
        "\n",
        "# ignore places that have not been geocoded\n",
        "\n",
        "df_geo = addresses_df.dropna(subset=['latitudes', 'longitudes'], axis=0, inplace=False)\n",
        "\n",
        "# combine information in GeoJSON fromat\n",
        "\n",
        "def df_to_geojson(df, properties, lat='latitudes', lon='longitudes'):\n",
        "    # create a new python dict to contain our geojson data, using geojson format\n",
        "    geojson = {'type':'FeatureCollection', 'features':[]}\n",
        "\n",
        "    # loop through each row in the dataframe and convert each row to geojson format\n",
        "    for _, row in df.iterrows():\n",
        "        # create a feature template to fill in\n",
        "        feature = {'type':'Feature',\n",
        "                   'properties':{},\n",
        "                   'geometry':{'type':'Point',\n",
        "                               'coordinates':[]}}\n",
        "\n",
        "        # fill in the coordinates\n",
        "        feature['geometry']['coordinates'] = [row[lon],row[lat]]\n",
        "\n",
        "        # for each column, get the value and add it as a new feature property\n",
        "        for prop in properties:\n",
        "            feature['properties'][prop] = row[prop]\n",
        "        \n",
        "        # add this feature (aka, converted dataframe row) to the list of features inside our dict\n",
        "        geojson['features'].append(feature)\n",
        "    \n",
        "    return geojson\n",
        "\n",
        "cols = ['Addresses', 'Google address']\n",
        "geojson = df_to_geojson(df_geo, cols)\n",
        "\n",
        "with open(directory+'AP3.geojson', 'w', encoding='utf-8') as f:\n",
        "    json.dump(geojson, f, ensure_ascii=False)"
      ],
      "metadata": {
        "id": "aHzmL7T1k9R-"
      },
      "execution_count": null,
      "outputs": []
    },
    {
      "cell_type": "markdown",
      "source": [
        "Your Google Drive should now contain a file with the \"geojson\" file ending. We can check if this file has been created and if it is well-formed."
      ],
      "metadata": {
        "id": "3jI29JhovOX5"
      }
    },
    {
      "cell_type": "code",
      "source": [
        "## double-check if GeoJSON file has been created and is well-formed\n",
        "\n",
        "# load GeoJSON data\n",
        "\n",
        "with open(directory+'AP3.geojson', 'r') as f2:\n",
        "    data = json.load(f2)\n",
        "    print(data)"
      ],
      "metadata": {
        "id": "djFHbGDaqvi_"
      },
      "execution_count": null,
      "outputs": []
    },
    {
      "cell_type": "markdown",
      "source": [
        "Now we can plot the geocoded data to an interactive map. The code below is partly based on an Ipyleaflet Tutorial provided by the *Carpentries Incubator*:\n",
        "\n",
        "https://carpentries-incubator.github.io/jupyter_maps/01-introduction/index.html"
      ],
      "metadata": {
        "id": "nR6m3PU0HO-M"
      }
    },
    {
      "cell_type": "code",
      "source": [
        "## plot geocoded data on interactive map\n",
        "\n",
        "# initialise interactive map\n",
        "\n",
        "from ipyleaflet import Map, basemaps, GeoJSON, LayersControl\n",
        "import random\n",
        "\n",
        "# customise map\n",
        "\n",
        "map = Map(center = (55, 7), zoom = 5, min_zoom = 1, max_zoom = 20, \n",
        "    basemap=basemaps.Stamen.Terrain)\n",
        "\n",
        "# add functionality to add or remove layers to map itself\n",
        "\n",
        "map.add_control(LayersControl())\n",
        "\n",
        "def random_color(feature):\n",
        "    return {\n",
        "        'color': 'black',\n",
        "        'fillColor': random.choice(['red', 'yellow', 'green', 'orange']),\n",
        "    }\n",
        "\n",
        "geo_json = GeoJSON(\n",
        "    data=data,\n",
        "    style={\n",
        "        'opacity': 1, 'dashArray': '7', 'fillOpacity': 0.1, 'weight': 2\n",
        "    },\n",
        "    hover_style={\n",
        "        'color': 'red', 'dashArray': '0', 'fillOpacity': 0.5\n",
        "    },\n",
        "    style_callback=random_color\n",
        ")\n",
        "\n",
        "# add geocoded data to map\n",
        "\n",
        "map.add_layer(geo_json)\n",
        "\n",
        "map\n"
      ],
      "metadata": {
        "id": "qG0aDIfMAhxw"
      },
      "execution_count": null,
      "outputs": []
    },
    {
      "cell_type": "markdown",
      "source": [
        "Congratulations, you have just plotted a new map! At the moment, the map only has markers for the point geometries but no pop-up labels. To embed those, other Python packages will need to be imported first. I will add pop-ups in the next development step. \n",
        "\n",
        "Notebook created by: Monika Barget\n",
        "\n",
        "Latest update: 26 January 2023"
      ],
      "metadata": {
        "id": "GBSEVpnKXS_u"
      }
    }
  ]
}
