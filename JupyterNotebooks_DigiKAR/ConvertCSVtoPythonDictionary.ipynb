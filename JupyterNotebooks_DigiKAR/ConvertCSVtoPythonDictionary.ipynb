{
  "nbformat": 4,
  "nbformat_minor": 0,
  "metadata": {
    "colab": {
      "private_outputs": true,
      "provenance": [],
      "authorship_tag": "ABX9TyNiwvGxJpR/7v46goDa1IW5",
      "include_colab_link": true
    },
    "kernelspec": {
      "name": "python3",
      "display_name": "Python 3"
    },
    "language_info": {
      "name": "python"
    }
  },
  "cells": [
    {
      "cell_type": "markdown",
      "metadata": {
        "id": "view-in-github",
        "colab_type": "text"
      },
      "source": [
        "<a href=\"https://colab.research.google.com/github/ieg-dhr/DigiKAR/blob/main/JupyterNotebooks_DigiKAR/ConvertCSVtoPythonDictionary.ipynb\" target=\"_parent\"><img src=\"https://colab.research.google.com/assets/colab-badge.svg\" alt=\"Open In Colab\"/></a>"
      ]
    },
    {
      "cell_type": "code",
      "execution_count": null,
      "metadata": {
        "id": "Plythx-wvyWl"
      },
      "outputs": [],
      "source": [
        "import pandas as pd\n",
        "\n",
        "# file to convert\n",
        "url = \"https://raw.githubusercontent.com/ieg-dhr/DigiKAR/main/OntologyFiles/function_ontology.csv\"\n",
        "\n",
        "# read csv\n",
        "# make sure the file has the essential information in only two columns\n",
        "data = pd.read_csv(url, usecols=[0,1], header=None) # ignores any possible data headers\n",
        "display(data)\n",
        "\n",
        "# convert to dictionary\n",
        "my_dict = dict(zip(data.iloc[:,0], data.iloc[:,1]))\n",
        "\n",
        "# print dictionary\n",
        "print(my_dict)"
      ]
    }
  ]
}