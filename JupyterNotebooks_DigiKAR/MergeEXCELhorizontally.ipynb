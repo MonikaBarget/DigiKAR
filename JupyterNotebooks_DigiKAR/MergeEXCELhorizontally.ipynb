{
  "nbformat": 4,
  "nbformat_minor": 0,
  "metadata": {
    "colab": {
      "private_outputs": true,
      "provenance": [],
      "authorship_tag": "ABX9TyMunrLUgh5/fmDOZu5d+peN",
      "include_colab_link": true
    },
    "kernelspec": {
      "name": "python3",
      "display_name": "Python 3"
    },
    "language_info": {
      "name": "python"
    }
  },
  "cells": [
    {
      "cell_type": "markdown",
      "metadata": {
        "id": "view-in-github",
        "colab_type": "text"
      },
      "source": [
        "<a href=\"https://colab.research.google.com/github/ieg-dhr/DigiKAR/blob/main/JupyterNotebooks_DigiKAR/MergeEXCELhorizontally.ipynb\" target=\"_parent\"><img src=\"https://colab.research.google.com/assets/colab-badge.svg\" alt=\"Open In Colab\"/></a>"
      ]
    },
    {
      "cell_type": "markdown",
      "source": [
        "Step 1: Mount Drive"
      ],
      "metadata": {
        "id": "aVsNLSIMxfC7"
      }
    },
    {
      "cell_type": "code",
      "execution_count": null,
      "metadata": {
        "id": "CTX5PPTUxUph"
      },
      "outputs": [],
      "source": [
        "## mount drive\n",
        "from google.colab import drive\n",
        "drive.mount(\"/content/drive\")"
      ]
    },
    {
      "cell_type": "markdown",
      "source": [
        "Step 2: Define file paths"
      ],
      "metadata": {
        "id": "VdPWJDsvxi9a"
      }
    },
    {
      "cell_type": "code",
      "source": [
        "directory=\"/content/drive/My Drive/Colab_FASoS/\""
      ],
      "metadata": {
        "id": "lCdr5pdfxmpU"
      },
      "execution_count": null,
      "outputs": []
    },
    {
      "cell_type": "markdown",
      "source": [
        "Step 3: Install additional packages"
      ],
      "metadata": {
        "id": "uAHtmpXpxqKc"
      }
    },
    {
      "cell_type": "code",
      "source": [
        "## install packages that are not part of Python's standard distribution\n",
        "\n",
        "!pip install pandas\n",
        "\n",
        "## importing needed packages\n",
        "\n",
        "import pandas as pd"
      ],
      "metadata": {
        "id": "WpiuofaXxtRF"
      },
      "execution_count": null,
      "outputs": []
    },
    {
      "cell_type": "markdown",
      "source": [
        "Step 4: Read input files and merge\n"
      ],
      "metadata": {
        "id": "kG4qGCIQx0Z4"
      }
    },
    {
      "cell_type": "code",
      "source": [
        "## Read first file from Drive to DF\n",
        "infile1=directory+\"Mainz2_Geonames.xlsx\"\n",
        "Geonames_df = pd.read_excel(infile1)\n",
        "# display(Geonames_df) # display of df optional\n",
        "\n",
        "## Read second file from Drive to DF\n",
        "infile2=directory+\"Addresses_Geocoded_withGoogle.xlsx\"\n",
        "Google_df = pd.read_excel(infile2)\n",
        "# display(Google_df) # display of df optional\n",
        "\n",
        "## Merge input dataframe horizontally\n",
        "\n",
        "Complete_df = Geonames_df.merge(Google_df)\n",
        "display(Complete_df)\n",
        "\n",
        "## Write new table to excel file\n",
        "\n",
        "outfile=directory+\"Mainz2_Complete.xlsx\"\n",
        "Complete_df.to_excel(outfile)\n"
      ],
      "metadata": {
        "id": "LBpLWTJVx4bt"
      },
      "execution_count": null,
      "outputs": []
    }
  ]
}