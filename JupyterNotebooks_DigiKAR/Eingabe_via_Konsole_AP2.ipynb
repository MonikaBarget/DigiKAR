{
  "nbformat": 4,
  "nbformat_minor": 0,
  "metadata": {
    "colab": {
      "private_outputs": true,
      "provenance": []
    },
    "kernelspec": {
      "name": "python3",
      "display_name": "Python 3"
    },
    "language_info": {
      "name": "python"
    }
  },
  "cells": [
    {
      "cell_type": "markdown",
      "source": [
        "Dieses Skript erlaubt eine einfache Übersicht über Daten in AP2 und außerdem die Eingabe neuer Daten über Dialog-Felder in der Konsole.\n",
        "\n",
        "**Schritt 1: Notebook mit eigenem Google Drive verbinden.**"
      ],
      "metadata": {
        "id": "vgRp5s8F5zPg"
      }
    },
    {
      "cell_type": "code",
      "execution_count": null,
      "metadata": {
        "id": "v57d8KcZ5ubE"
      },
      "outputs": [],
      "source": [
        "## mount drive\n",
        "from google.colab import drive\n",
        "drive.mount(\"/content/drive\")\n",
        "directory=\"/content/drive/My Drive/Colab_DigiKAR/\""
      ]
    },
    {
      "cell_type": "markdown",
      "source": [
        "**Schritt 2: Benötigte Python Packages installieren.**"
      ],
      "metadata": {
        "id": "_11orxq-6U6G"
      }
    },
    {
      "cell_type": "code",
      "source": [
        "## install packages that are not part of Python's standard distribution\n",
        "\n",
        "!pip install xlsxwriter"
      ],
      "metadata": {
        "id": "FgjoKmcd6df8"
      },
      "execution_count": null,
      "outputs": []
    },
    {
      "cell_type": "markdown",
      "source": [
        "**Schritt 3: Benötigte Python Packages in Skript importieren.**"
      ],
      "metadata": {
        "id": "ItGNavk_6mj-"
      }
    },
    {
      "cell_type": "code",
      "source": [
        "## import relevant packages\n",
        "\n",
        "import PySimpleGUI as sg\n",
        "import xlsxwriter\n",
        "import pandas as pd\n",
        "import matplotlib\n",
        "import os"
      ],
      "metadata": {
        "id": "W5sXtE-e60c4"
      },
      "execution_count": null,
      "outputs": []
    },
    {
      "cell_type": "markdown",
      "source": [
        "**Schritt 4: Daten laden und benötigte Spalten für die Excel-Tabelle festlegen.**"
      ],
      "metadata": {
        "id": "Y-EWiKqg6-nc"
      }
    },
    {
      "cell_type": "code",
      "source": [
        "from sys import breakpointhook\n",
        "file=directory+\"INPUT AP2/Probedaten-AP-2-DigiKAR_ModellierungMB.xlsx\"\n",
        "\n",
        "rights_list=[\"Amtszugehörigkeit\", \"Grundherrschaft\", \"Hochgericht\", \"Erbgericht\", \"Kirche\", \"Ortsliste\", \"Sässigkeit\", \"Abgabenempfänger\"]\n",
        "places_sheet=pd.read_excel(file, sheet_name=\"Ortsliste\", index_col=None, dtype=str)\n",
        "places_list=places_sheet[\"Ortsname\"].values.tolist()\n",
        "df_list=[]\n",
        "\n",
        "AP2_columns=[\"Ortsname\", \"Ortslevel\", \"Rechtstyp\", \"Rechteinhaber\", \"Rechtsstatus\", \"Ausübungsort\", \"Abweichung\", \"Jahr\", \"nach-Jahr\", \"vor-Jahr\", \"Quelle\", \"Anmerkung\"]"
      ],
      "metadata": {
        "id": "dL93YCJcdDEB"
      },
      "execution_count": null,
      "outputs": []
    },
    {
      "cell_type": "markdown",
      "source": [
        "**Schritt 5: Nutzerdialog starten und Eingaben verarbeiten.**"
      ],
      "metadata": {
        "id": "JJpMwVk_dMB0"
      }
    },
    {
      "cell_type": "code",
      "source": [
        "# Nutzereingabe und Verarbeitung\n",
        "\n",
        "# Funktion zur Datenansicht\n",
        "def view_data(param1):\n",
        "\n",
        "    print(\"Recht oder Ort:\")\n",
        "    user_input=input()\n",
        "\n",
        "    if user_input in rights_list:\n",
        "      data_AP2 = pd.read_excel(file, sheet_name=user_input, index_col=None, dtype=str)\n",
        "      display(data_AP2)\n",
        "      new_selection(1)\n",
        "    elif user_input in places_list:\n",
        "      df_Amt = pd.read_excel(file, sheet_name=\"Amtszugehörigkeit\", dtype=str)\n",
        "      data_Amt = df_Amt.loc[df_Amt[\"Ortsname\"] == user_input]\n",
        "      df_Grund = pd.read_excel(file, sheet_name=\"Grundherrschaft\", dtype=str)\n",
        "      data_Grund = df_Grund.loc[df_Grund[\"Ortsname\"] == user_input]\n",
        "      df_Hoch = pd.read_excel(file, sheet_name=\"Hochgericht\", dtype=str)\n",
        "      data_Hoch = df_Hoch.loc[df_Hoch[\"Ortsname\"] == user_input]\n",
        "      display(data_Amt, data_Grund, data_Hoch)\n",
        "      new_selection(1)\n",
        "    else:\n",
        "      print(\"Ungültige Eingabe!\")\n",
        "      view_data(1)\n",
        "\n",
        "# Funktion zur Dateneingabe\n",
        "def input_data(param2):\n",
        "    \n",
        "    global new_df\n",
        "\n",
        "    print(\"Neue Information\")\n",
        "    print(\"Ort:\")\n",
        "    user_Ort=input()\n",
        "    print(\"Ortslevel:\")\n",
        "    user_Ortslevel=input()\n",
        "    print(\"Rechtstyp:\")\n",
        "    user_Rechtstyp=input()\n",
        "    print(\"Rechteinhaber:\")\n",
        "    user_Rechteinhaber=input()\n",
        "    print(\"Rechtsstatus:\")\n",
        "    user_Rechtsstatus=input()\n",
        "    print(\"Ausübungsort:\")\n",
        "    user_Ausübungsort=input()\n",
        "    print(\"Abweichung:\")\n",
        "    user_Abweichung=input()\n",
        "    print(\"Jahr:\")\n",
        "    user_Jahr=input()\n",
        "    print(\"nach-Jahr:\")\n",
        "    user_nach_Jahr=input()\n",
        "    print(\"vor-Jahr:\")\n",
        "    user_vor_Jahr=input()\n",
        "    print(\"Quelle:\")\n",
        "    user_Quelle=input()\n",
        "    print(\"Anmerkung:\")\n",
        "    user_Anmerkung=input()\n",
        "    \n",
        "    new_info_list=[user_Ort, \n",
        "                  user_Ortslevel,\n",
        "                  user_Rechtstyp, \n",
        "                  user_Rechteinhaber,\n",
        "                  user_Rechtsstatus, \n",
        "                  user_Ausübungsort, \n",
        "                  user_Abweichung, \n",
        "                  user_Jahr, \n",
        "                  user_nach_Jahr, \n",
        "                  user_vor_Jahr, \n",
        "                  user_Quelle, \n",
        "                  user_Anmerkung]\n",
        "\n",
        "    new_df = pd.DataFrame(columns=AP2_columns, data=[new_info_list])\n",
        "    display(new_df)\n",
        "    df_list.append(new_df)\n",
        "    new_selection(1)\n",
        "\n",
        "# Funktion zum Beenden des Skripts\n",
        "def end_script(param4):\n",
        "  print(\"Skript beendet. Starten Sie das Skript für weitere Datenbearbeitung erneut!\")\n",
        "  \n",
        "# Funktion zur Abfrage weiterer Optionen\n",
        "def new_selection(param3):   \n",
        "\n",
        "    try_again = input(\"0 = Schließen, 1 = neue Auswahl, 2 = Daten hinzufügen oder ändern\")\n",
        "    try:\n",
        "        try_again = int(try_again)  # non-numeric input from user could otherwise crash at this point\n",
        "        if try_again == 0:\n",
        "            end_script(1)\n",
        "        if try_again == 1:\n",
        "            view_data(1)\n",
        "        if try_again == 2:\n",
        "            input_data(1)\n",
        "    except Exception as e:\n",
        "        print(e)\n",
        "\n",
        "# Hauptfunktion\n",
        "def main():\n",
        "    view_data(1)\n",
        "    if len(df_list)>=1:\n",
        "        # Neue Informationen in neue Excel-Datei schreiben\n",
        "        fName = input(\"Wählen Sie einen Namen für Ihre Datei: \")\n",
        "        workbook=directory+'OUTPUT AP2/'+fName+'.xlsx'\n",
        "        #old_df=pd.read_excel(file, index_col=None, dtype=str)\n",
        "        for df in df_list:\n",
        "            writer = pd.ExcelWriter(workbook, engine='xlsxwriter')\n",
        "            with writer as writer:\n",
        "                df.to_excel(writer, sheet_name='AP2_new') # header=None, startrow = len(old_df)+1 \n",
        "        print(\"Eingabe gespeichert.\")\n",
        "    else:\n",
        "        print(\"Bis zum nächsten Mal!\")\n",
        "\n",
        "if __name__ == \"__main__\":\n",
        "    main()"
      ],
      "metadata": {
        "id": "SMcccJ3K690M"
      },
      "execution_count": null,
      "outputs": []
    },
    {
      "cell_type": "markdown",
      "source": [
        "Skript für das <a href=\"https://digikar.eu/\">DigiKAR</a> Projekt im Februar 2023.\n",
        "\n",
        "Erstellt von Monika Barget, IEG Mainz / Universität Maastricht."
      ],
      "metadata": {
        "id": "i8zDiTyBdtU4"
      }
    }
  ]
}